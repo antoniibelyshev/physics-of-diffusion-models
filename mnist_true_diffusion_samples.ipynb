{
 "cells": [
  {
   "cell_type": "code",
   "execution_count": 1,
   "metadata": {},
   "outputs": [
    {
     "name": "stderr",
     "output_type": "stream",
     "text": [
      "/home/coder/.local/lib/python310-conda-cuda-torch21/site-packages/tqdm/auto.py:21: TqdmWarning: IProgress not found. Please update jupyter and ipywidgets. See https://ipywidgets.readthedocs.io/en/stable/user_install.html\n",
      "  from .autonotebook import tqdm as notebook_tqdm\n",
      "100%|██████████| 1499/1499 [1:13:15<00:00,  2.93s/it]\n"
     ]
    }
   ],
   "source": [
    "from config import load_config\n",
    "from diffusion import get_samples, get_and_save_samples\n",
    "\n",
    "\n",
    "config = load_config()\n",
    "config.ddpm.model_name = \"true\"\n",
    "config.ddpm.parametrization = \"score\"\n",
    "config.sample.n_samples = 40\n",
    "config.sample.n_repeats = 1500\n",
    "\n",
    "samples = get_and_save_samples(config)"
   ]
  },
  {
   "cell_type": "code",
   "execution_count": 2,
   "metadata": {},
   "outputs": [],
   "source": [
    "from utils import get_data_tensor, LeNet, extract_features_statistics, compute_fid\n",
    "import torch\n",
    "\n",
    "\n",
    "train_data = get_data_tensor(config)"
   ]
  },
  {
   "cell_type": "code",
   "execution_count": 3,
   "metadata": {},
   "outputs": [
    {
     "data": {
      "text/plain": [
       "(0.35479403, 0.7654394323942016, 1.1202334578153441)"
      ]
     },
     "execution_count": 3,
     "metadata": {},
     "output_type": "execute_result"
    }
   ],
   "source": [
    "lenet = LeNet(1024, 10).cuda()\n",
    "lenet.load_state_dict(torch.load(\"checkpoints/lenet_mnist.pth\"))\n",
    "\n",
    "mu, sigma = extract_features_statistics(train_data.cuda(), lenet)\n",
    "mu_diff, sigma_diff = extract_features_statistics(samples[\"x\"].cuda(), lenet)\n",
    "compute_fid(mu, sigma, mu_diff, sigma_diff + 1e-7)"
   ]
  },
  {
   "cell_type": "code",
   "execution_count": 4,
   "metadata": {},
   "outputs": [
    {
     "data": {
      "text/plain": [
       "(0.012510011, 0.04625432239791505, 0.058764333370534105)"
      ]
     },
     "execution_count": 4,
     "metadata": {},
     "output_type": "execute_result"
    }
   ],
   "source": [
    "import numpy as np\n",
    "\n",
    "\n",
    "mu_diff, sigma_diff = extract_features_statistics(train_data[np.random.choice(range(len(train_data)), size=(len(samples[\"x\"]),), replace=True)].cuda(), lenet)\n",
    "compute_fid(mu, sigma, mu_diff, sigma_diff + 1e-7)"
   ]
  },
  {
   "cell_type": "code",
   "execution_count": 5,
   "metadata": {},
   "outputs": [],
   "source": [
    "import matplotlib.pyplot as plt"
   ]
  },
  {
   "cell_type": "code",
   "execution_count": 6,
   "metadata": {},
   "outputs": [
    {
     "data": {
      "text/plain": [
       "<matplotlib.image.AxesImage at 0x7f21d039ac50>"
      ]
     },
     "execution_count": 6,
     "metadata": {},
     "output_type": "execute_result"
    },
    {
     "data": {
      "image/png": "[encoded data removed]",
      "text/plain": [
       "<Figure size 640x480 with 1 Axes>"
      ]
     },
     "metadata": {},
     "output_type": "display_data"
    }
   ],
   "source": [
    "plt.imshow(samples[\"x\"][2, 0])"
   ]
  },
  {
   "cell_type": "code",
   "execution_count": 7,
   "metadata": {},
   "outputs": [
    {
     "data": {
      "text/plain": [
       "<matplotlib.image.AxesImage at 0x7f21bc588c40>"
      ]
     },
     "execution_count": 7,
     "metadata": {},
     "output_type": "execute_result"
    },
    {
     "data": {
      "image/png": "[encoded data removed]",
      "text/plain": [
       "<Figure size 640x480 with 1 Axes>"
      ]
     },
     "metadata": {},
     "output_type": "display_data"
    }
   ],
   "source": [
    "plt.imshow(train_data[2, 0])"
   ]
  },
  {
   "cell_type": "code",
   "execution_count": null,
   "metadata": {},
   "outputs": [],
   "source": []
  }
 ],
 "metadata": {
  "kernelspec": {
   "display_name": "Python 3",
   "language": "python",
   "name": "python3"
  },
  "language_info": {
   "codemirror_mode": {
    "name": "ipython",
    "version": 3
   },
   "file_extension": ".py",
   "mimetype": "text/x-python",
   "name": "python",
   "nbconvert_exporter": "python",
   "pygments_lexer": "ipython3",
   "version": "3.10.14"
  }
 },
 "nbformat": 4,
 "nbformat_minor": 2
}
