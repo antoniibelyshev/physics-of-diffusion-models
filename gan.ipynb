{
 "cells": [
  {
   "metadata": {
    "ExecuteTime": {
     "end_time": "2025-01-31T15:37:06.360776Z",
     "start_time": "2025-01-31T15:37:00.481935Z"
    }
   },
   "cell_type": "code",
   "source": [
    "import torch\n",
    "from torch import nn, Tensor\n",
    "import torch.optim as optim\n",
    "from denoising_diffusion_pytorch import Unet\n",
    "\n",
    "from utils import get_data_generator, get_data_tensor\n",
    "from config import load_config"
   ],
   "id": "fa6d7df3bb2d0673",
   "outputs": [],
   "execution_count": 1
  },
  {
   "metadata": {
    "ExecuteTime": {
     "end_time": "2025-01-31T15:37:07.122910Z",
     "start_time": "2025-01-31T15:37:07.095378Z"
    }
   },
   "cell_type": "code",
   "source": [
    "class UNetGenerator(nn.Module):\n",
    "    def __init__(self, lat_dim: int = 32):\n",
    "        super().__init__()\n",
    "        self.latent_dim = lat_dim\n",
    "        self.project_z = nn.Linear(lat_dim, 32 * 32)  # Project z into 64x64 feature map\n",
    "        self.unet = Unet(\n",
    "            dim=64,\n",
    "            dim_mults=(1, 2, 4, 4),\n",
    "            channels=1,\n",
    "            # flash_attn=True,\n",
    "        )\n",
    "\n",
    "    def forward(self, z: Tensor) -> Tensor:\n",
    "        x = self.project_z(z).view(z.shape[0], 1, 32, 32)  # Reshape into (B, C, H, W)\n",
    "        t = torch.zeros(len(z), device=z.device)\n",
    "        return self.unet(x, t)  # U-Net outputs an image\n",
    "\n",
    "\n",
    "class Discriminator(nn.Module):\n",
    "    def __init__(self) -> None:\n",
    "        super().__init__()\n",
    "        self.model = nn.Sequential(\n",
    "            nn.Conv2d(1, 64, kernel_size=4, stride=2, padding=1),  # (B, 64, 16, 16)\n",
    "            nn.LeakyReLU(0.2, inplace=True),\n",
    "            nn.Conv2d(64, 128, kernel_size=4, stride=2, padding=1),  # (B, 128, 8, 8)\n",
    "            nn.BatchNorm2d(128),\n",
    "            nn.LeakyReLU(0.2, inplace=True),\n",
    "            nn.Conv2d(128, 256, kernel_size=4, stride=2, padding=1),  # (B, 256, 4, 4)\n",
    "            nn.BatchNorm2d(256),\n",
    "            nn.LeakyReLU(0.2, inplace=True),\n",
    "            nn.Conv2d(256, 1, kernel_size=4, stride=1),  # (B, 1, 1, 1)\n",
    "            nn.Sigmoid()\n",
    "        )\n",
    "\n",
    "    def forward(self, img: Tensor) -> Tensor:\n",
    "        return self.model(img).view(-1, 1)  # Output a single probability per image\n",
    "\n",
    "\n",
    "class GAN(nn.Module):\n",
    "    def __init__(self, lat_dim: int = 32):\n",
    "        super().__init__()\n",
    "        self.generator = UNetGenerator(lat_dim)\n",
    "        self.discriminator = Discriminator()\n",
    "\n",
    "    def generate(self, z: Tensor) -> Tensor:\n",
    "        return self.generator(z)\n",
    "\n",
    "    def discriminate(self, img: Tensor) -> Tensor:\n",
    "        return self.discriminator(img)\n"
   ],
   "id": "7eb7002ddb3307b8",
   "outputs": [],
   "execution_count": 2
  },
  {
   "metadata": {
    "collapsed": true,
    "jupyter": {
     "is_executing": true
    },
    "ExecuteTime": {
     "start_time": "2025-01-31T15:37:07.131917Z"
    }
   },
   "cell_type": "code",
   "source": [
    "#data\n",
    "config = load_config()\n",
    "data = get_data_tensor(config)\n",
    "data_generator = get_data_generator(data)\n",
    "\n",
    "# Hyperparameters\n",
    "latent_dim = 32\n",
    "lr = 2e-4\n",
    "batch_size = 64\n",
    "total_iters = 10000\n",
    "\n",
    "# Initialize models\n",
    "device = \"cuda\" if torch.cuda.is_available() else \"cpu\"\n",
    "gan = GAN(latent_dim).to(device)\n",
    "generator, discriminator = gan.generator, gan.discriminator\n",
    "\n",
    "# Optimizers\n",
    "optimizer_G = optim.Adam(generator.parameters(), lr=lr, betas=(0.5, 0.999))\n",
    "optimizer_D = optim.Adam(discriminator.parameters(), lr=lr, betas=(0.5, 0.999))\n",
    "\n",
    "# Loss function\n",
    "criterion = nn.BCELoss()\n",
    "\n",
    "# Training loop\n",
    "for it in range(total_iters):\n",
    "    real_imgs = next(data_generator).to(device)\n",
    "    batch_size = real_imgs.size(0)\n",
    "\n",
    "    # Labels\n",
    "    real_labels = torch.ones(batch_size, 1)\n",
    "    fake_labels = torch.zeros(batch_size, 1)\n",
    "\n",
    "    # Train Discriminator\n",
    "    optimizer_D.zero_grad()\n",
    "\n",
    "    real_loss = criterion(discriminator(real_imgs), real_labels)\n",
    "    noise = torch.randn(batch_size, latent_dim)  # Sample noise\n",
    "    fake_imgs = generator(noise)\n",
    "    fake_loss = criterion(discriminator(fake_imgs.detach()), fake_labels)\n",
    "\n",
    "    loss_D = real_loss + fake_loss\n",
    "    loss_D.backward()\n",
    "    optimizer_D.step()\n",
    "\n",
    "    # Train Generator\n",
    "    optimizer_G.zero_grad()\n",
    "    loss_G = criterion(discriminator(fake_imgs), real_labels)  # Want fake images to be classified as real\n",
    "    loss_G.backward()\n",
    "    optimizer_G.step()\n",
    "\n",
    "    print(f\"Iter {it}: D Loss = {loss_D.item():.4f}, G Loss = {loss_G.item():.4f}\")"
   ],
   "id": "initial_id",
   "outputs": [
    {
     "name": "stdout",
     "output_type": "stream",
     "text": [
      "Iter 0: D Loss = 1.5383, G Loss = 1.1410\n"
     ]
    }
   ],
   "execution_count": null
  },
  {
   "metadata": {},
   "cell_type": "code",
   "outputs": [],
   "execution_count": null,
   "source": "",
   "id": "82604d9545860209"
  }
 ],
 "metadata": {
  "kernelspec": {
   "display_name": "Python 3",
   "language": "python",
   "name": "python3"
  },
  "language_info": {
   "codemirror_mode": {
    "name": "ipython",
    "version": 2
   },
   "file_extension": ".py",
   "mimetype": "text/x-python",
   "name": "python",
   "nbconvert_exporter": "python",
   "pygments_lexer": "ipython2",
   "version": "2.7.6"
  }
 },
 "nbformat": 4,
 "nbformat_minor": 5
}
